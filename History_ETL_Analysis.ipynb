{
 "cells": [
  {
   "cell_type": "markdown",
   "metadata": {},
   "source": [
    "This is a script to monitor how many valid data points for yesterday's recorded weather are returned by each of our forecasters. The script saves the plot everyt 60 seconds. To find out what time the x axis column corresponds to, use the `what_time` function defined below. This analysis was performed on September 23 for the date of September 22 so if you want to reproduce the results, just set `yesterday_string` variable to `2018-09-22`."
   ]
  },
  {
   "cell_type": "code",
   "execution_count": 38,
   "metadata": {},
   "outputs": [],
   "source": [
    "import pandas as pd\n",
    "import datetime\n",
    "import time\n",
    "from matplotlib import pyplot as plt\n",
    "%matplotlib inline"
   ]
  },
  {
   "cell_type": "markdown",
   "metadata": {},
   "source": [
    "The first series of while loops and try blocks are there to make sure we are analyzing a csv file that is whole. The current script for ETL of the recorded data updates the csv file continuously so the retreival of its data is messed up while the ETL script saves it."
   ]
  },
  {
   "cell_type": "code",
   "execution_count": 39,
   "metadata": {},
   "outputs": [
    {
     "data": {
      "image/png": "[encoded data removed]",
      "text/plain": [
       "<matplotlib.figure.Figure at 0x10e32d3c8>"
      ]
     },
     "metadata": {},
     "output_type": "display_data"
    }
   ],
   "source": [
    "count = 0\n",
    "while True:\n",
    "    \n",
    "    yesterday_string = (datetime.datetime.now().date()-datetime.timedelta(days=1)).strftime('{}-{}-{}'.format('%Y','%m','%d'))\n",
    "    \n",
    "    while True:\n",
    "        try:\n",
    "            df = pd.read_csv('/Users/Alex/Coding/weather_db/Data/TEST_history_db.csv')\n",
    "        except pd.errors.EmptyDataError:\n",
    "            continue\n",
    "            \n",
    "        csv_state = (df['date']==yesterday_string).count()\n",
    "        if csv_state >= count:\n",
    "            count = csv_state\n",
    "        else:\n",
    "            continue\n",
    "\n",
    "        df = df.set_index(['date','iter','provider'])\n",
    "        df = df.drop(index='2018-08-19',level=0)\n",
    "\n",
    "        try:\n",
    "            df_TWN = df.xs((yesterday_string,'TWN'), level=['date','provider'])\n",
    "            df_EC = df.xs((yesterday_string,'EC'), level=['date','provider'])\n",
    "            break\n",
    "        except KeyError:\n",
    "                continue\n",
    "    \n",
    "    df = df.reset_index()\n",
    "\n",
    "    TWN_count = df_TWN.groupby('iter').count()\n",
    "    EC_count = df_EC.groupby('iter').count()\n",
    "\n",
    "    success_prog = df.join(TWN_count, on='iter',how='outer',rsuffix='_TWN_count')\n",
    "    success_prog = success_prog.join(EC_count, on='iter',how='outer',rsuffix='_EC_count')\n",
    "\n",
    "    success_prog = success_prog[['iter','time','high_TWN_count','high_EC_count']].reset_index()\n",
    "\n",
    "    plot = success_prog.plot(x='iter',y=['high_TWN_count','high_EC_count'])\n",
    "    fig = plot.get_figure()\n",
    "    fig.savefig('/Users/Alex/Dropbox (Personal)/{}_history_collection.jpeg'.format(yesterday_string))\n",
    "    \n",
    "    # Uncomment the following break if continuous monitoring is required. Otherwise, it will analyze once only.\n",
    "    #break\n",
    "    \n",
    "    time.sleep(60)"
   ]
  },
  {
   "cell_type": "markdown",
   "metadata": {},
   "source": [
    "Looks like Environment Canada (EC) reached a higher number of reported records than TWN and it also looks like they reached it earlier."
   ]
  },
  {
   "cell_type": "markdown",
   "metadata": {},
   "source": [
    "Let's find out when:"
   ]
  },
  {
   "cell_type": "code",
   "execution_count": 44,
   "metadata": {},
   "outputs": [],
   "source": [
    "def what_time(iter):\n",
    "    while True:    \n",
    "        try:\n",
    "            df = pd.read_csv('/Users/Alex/Coding/weather_db/Data/TEST_history_db.csv')\n",
    "            break\n",
    "        except pd.errors.EmptyDataError:\n",
    "            continue\n",
    "\n",
    "    return df[(df['date']==yesterday_string)&(df['iter']==iter)][['time']].iloc[1]"
   ]
  },
  {
   "cell_type": "markdown",
   "metadata": {},
   "source": [
    "Environment Canada was reporting upwards of 450 records around `iter` 56, which occured at:"
   ]
  },
  {
   "cell_type": "code",
   "execution_count": 45,
   "metadata": {},
   "outputs": [
    {
     "data": {
      "text/plain": [
       "time    08:27:32.845741\n",
       "Name: 132000, dtype: object"
      ]
     },
     "execution_count": 45,
     "metadata": {},
     "output_type": "execute_result"
    }
   ],
   "source": [
    "what_time(56)"
   ]
  },
  {
   "cell_type": "markdown",
   "metadata": {},
   "source": [
    "Meanwhile, The Weather Network never even reached 400 records and they peaked later, at `iter` 64, which occured at:"
   ]
  },
  {
   "cell_type": "code",
   "execution_count": 46,
   "metadata": {},
   "outputs": [
    {
     "data": {
      "text/plain": [
       "time    13:05:37.619512\n",
       "Name: 141472, dtype: object"
      ]
     },
     "execution_count": 46,
     "metadata": {},
     "output_type": "execute_result"
    }
   ],
   "source": [
    "what_time(64)"
   ]
  }
 ],
 "metadata": {
  "kernelspec": {
   "display_name": "Python 3",
   "language": "python",
   "name": "python3"
  },
  "language_info": {
   "codemirror_mode": {
    "name": "ipython",
    "version": 3
   },
   "file_extension": ".py",
   "mimetype": "text/x-python",
   "name": "python",
   "nbconvert_exporter": "python",
   "pygments_lexer": "ipython3",
   "version": "3.6.3"
  }
 },
 "nbformat": 4,
 "nbformat_minor": 2
}
